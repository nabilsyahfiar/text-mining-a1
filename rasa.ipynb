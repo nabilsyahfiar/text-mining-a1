{
  "nbformat": 4,
  "nbformat_minor": 0,
  "metadata": {
    "colab": {
      "provenance": []
    },
    "kernelspec": {
      "name": "python3",
      "display_name": "Python 3"
    },
    "language_info": {
      "name": "python"
    }
  },
  "cells": [
    {
      "cell_type": "code",
      "source": [
        "import sys\n",
        "print(\"EXECUTABLE\\t:\",sys.executable)\n",
        "print(\"VERSION\\t\\t:\",sys.version)\n",
        "print(\"VERSION INFO\\t:\",sys.version_info)"
      ],
      "metadata": {
        "colab": {
          "base_uri": "https://localhost:8080/"
        },
        "id": "Lmex7LF5V6AO",
        "outputId": "97df8cd9-9684-48f4-9604-7075f8939b64"
      },
      "execution_count": 1,
      "outputs": [
        {
          "output_type": "stream",
          "name": "stdout",
          "text": [
            "EXECUTABLE\t: /usr/bin/python3\n",
            "VERSION\t\t: 3.8.16 (default, Dec  7 2022, 01:12:13) \n",
            "[GCC 7.5.0]\n",
            "VERSION INFO\t: sys.version_info(major=3, minor=8, micro=16, releaselevel='final', serial=0)\n"
          ]
        }
      ]
    },
    {
      "cell_type": "code",
      "source": [
        "!pip install nest_asyncio"
      ],
      "metadata": {
        "colab": {
          "base_uri": "https://localhost:8080/"
        },
        "id": "pRRnCJIPLijm",
        "outputId": "8d405b1b-3144-4baa-d7bd-5c9f5f631d9d"
      },
      "execution_count": 2,
      "outputs": [
        {
          "output_type": "stream",
          "name": "stdout",
          "text": [
            "Looking in indexes: https://pypi.org/simple, https://us-python.pkg.dev/colab-wheels/public/simple/\n",
            "Collecting nest_asyncio\n",
            "  Downloading nest_asyncio-1.5.6-py3-none-any.whl (5.2 kB)\n",
            "Installing collected packages: nest-asyncio\n",
            "Successfully installed nest-asyncio-1.5.6\n"
          ]
        }
      ]
    },
    {
      "cell_type": "code",
      "source": [
        "import nest_asyncio\n",
        "\n",
        "nest_asyncio.apply()\n",
        "print(\"Event loop ready.\")"
      ],
      "metadata": {
        "colab": {
          "base_uri": "https://localhost:8080/"
        },
        "id": "tndmf2JSPwcX",
        "outputId": "13c240e7-2f94-47c0-9d10-bec1e4ed9ba5"
      },
      "execution_count": 9,
      "outputs": [
        {
          "output_type": "stream",
          "name": "stdout",
          "text": [
            "Event loop ready.\n"
          ]
        }
      ]
    },
    {
      "cell_type": "code",
      "source": [
        "!pip install rasa"
      ],
      "metadata": {
        "colab": {
          "base_uri": "https://localhost:8080/",
          "height": 1000
        },
        "id": "UiY_0pBtLwjX",
        "outputId": "ca4cf9b2-63cf-4433-ab7d-1a243ffb4e8f"
      },
      "execution_count": 4,
      "outputs": [
        {
          "output_type": "stream",
          "name": "stdout",
          "text": [
            "Looking in indexes: https://pypi.org/simple, https://us-python.pkg.dev/colab-wheels/public/simple/\n",
            "Collecting rasa\n",
            "  Downloading rasa-3.4.0-py3-none-any.whl (821 kB)\n",
            "\u001b[K     |████████████████████████████████| 821 kB 4.1 MB/s \n",
            "\u001b[?25hCollecting fbmessenger<6.1.0,>=6.0.0\n",
            "  Downloading fbmessenger-6.0.0-py2.py3-none-any.whl (11 kB)\n",
            "Collecting aiogram<2.24\n",
            "  Downloading aiogram-2.23.1-py3-none-any.whl (199 kB)\n",
            "\u001b[K     |████████████████████████████████| 199 kB 47.9 MB/s \n",
            "\u001b[?25hCollecting pykwalify<1.9,>=1.7\n",
            "  Downloading pykwalify-1.8.0-py2.py3-none-any.whl (24 kB)\n",
            "Collecting dask==2022.10.2\n",
            "  Downloading dask-2022.10.2-py3-none-any.whl (1.1 MB)\n",
            "\u001b[K     |████████████████████████████████| 1.1 MB 43.8 MB/s \n",
            "\u001b[?25hRequirement already satisfied: absl-py<1.4,>=0.9 in /usr/local/lib/python3.8/dist-packages (from rasa) (1.3.0)\n",
            "Requirement already satisfied: SQLAlchemy<1.5.0,>=1.4.0 in /usr/local/lib/python3.8/dist-packages (from rasa) (1.4.45)\n",
            "Requirement already satisfied: google-auth<3 in /usr/local/lib/python3.8/dist-packages (from rasa) (2.15.0)\n",
            "Collecting jsonpickle<2.3,>=1.3\n",
            "  Downloading jsonpickle-2.2.0-py2.py3-none-any.whl (39 kB)\n",
            "Collecting pymongo[srv,tls]<3.11,>=3.8\n",
            "  Downloading pymongo-3.10.1-cp38-cp38-manylinux2014_x86_64.whl (480 kB)\n",
            "\u001b[K     |████████████████████████████████| 480 kB 49.0 MB/s \n",
            "\u001b[?25hRequirement already satisfied: python-dateutil<2.9,>=2.8 in /usr/local/lib/python3.8/dist-packages (from rasa) (2.8.2)\n",
            "Collecting rocketchat_API<1.29.0,>=0.6.31\n",
            "  Downloading rocketchat_API-1.28.1-py3-none-any.whl (20 kB)\n",
            "Collecting ruamel.yaml<0.18.0,>=0.16.5\n",
            "  Downloading ruamel.yaml-0.17.21-py3-none-any.whl (109 kB)\n",
            "\u001b[K     |████████████████████████████████| 109 kB 62.6 MB/s \n",
            "\u001b[?25hRequirement already satisfied: tensorflow_hub<0.13.0,>=0.12.0 in /usr/local/lib/python3.8/dist-packages (from rasa) (0.12.0)\n",
            "Collecting ujson<6.0,>=1.35\n",
            "  Downloading ujson-5.6.0-cp38-cp38-manylinux_2_17_x86_64.manylinux2014_x86_64.whl (52 kB)\n",
            "\u001b[K     |████████████████████████████████| 52 kB 1.0 MB/s \n",
            "\u001b[?25hCollecting sanic-jwt<2.0.0,>=1.6.0\n",
            "  Downloading sanic_jwt-1.8.0-py3-none-any.whl (23 kB)\n",
            "Requirement already satisfied: scipy<1.9.0,>=1.4.1 in /usr/local/lib/python3.8/dist-packages (from rasa) (1.7.3)\n",
            "Collecting pydot<1.5,>=1.4\n",
            "  Downloading pydot-1.4.2-py2.py3-none-any.whl (21 kB)\n",
            "Collecting tarsafe<0.0.4,>=0.0.3\n",
            "  Downloading tarsafe-0.0.3-py3-none-any.whl (5.0 kB)\n",
            "Collecting colorhash<1.3.0,>=1.0.2\n",
            "  Downloading colorhash-1.2.1-py3-none-any.whl (5.7 kB)\n",
            "Requirement already satisfied: setuptools>=41.0.0 in /usr/local/lib/python3.8/dist-packages (from rasa) (57.4.0)\n",
            "Requirement already satisfied: CacheControl<0.13.0,>=0.12.9 in /usr/local/lib/python3.8/dist-packages (from rasa) (0.12.11)\n",
            "Collecting python-engineio!=5.0.0,<6,>=4\n",
            "  Downloading python_engineio-4.3.4-py3-none-any.whl (52 kB)\n",
            "\u001b[K     |████████████████████████████████| 52 kB 1.3 MB/s \n",
            "\u001b[?25hCollecting tensorflow-text<2.9.0,>=2.8.0\n",
            "  Downloading tensorflow_text-2.8.2-cp38-cp38-manylinux_2_12_x86_64.manylinux2010_x86_64.whl (4.9 MB)\n",
            "\u001b[K     |████████████████████████████████| 4.9 MB 54.0 MB/s \n",
            "\u001b[?25hRequirement already satisfied: requests<3.0,>=2.23 in /usr/local/lib/python3.8/dist-packages (from rasa) (2.23.0)\n",
            "Collecting coloredlogs<16,>=10\n",
            "  Downloading coloredlogs-15.0.1-py2.py3-none-any.whl (46 kB)\n",
            "\u001b[K     |████████████████████████████████| 46 kB 3.5 MB/s \n",
            "\u001b[?25hCollecting sanic-cors<2.1.0,>=2.0.0\n",
            "  Downloading Sanic_Cors-2.0.1-py2.py3-none-any.whl (17 kB)\n",
            "Collecting typing-utils<0.2.0,>=0.1.0\n",
            "  Downloading typing_utils-0.1.0-py3-none-any.whl (10 kB)\n",
            "Requirement already satisfied: jsonschema<4.17,>=3.2 in /usr/local/lib/python3.8/dist-packages (from rasa) (4.3.3)\n",
            "Collecting redis<5.0,>=3.4\n",
            "  Downloading redis-4.4.0-py3-none-any.whl (236 kB)\n",
            "\u001b[K     |████████████████████████████████| 236 kB 76.9 MB/s \n",
            "\u001b[?25hRequirement already satisfied: matplotlib<3.6,>=3.1 in /usr/local/lib/python3.8/dist-packages (from rasa) (3.2.2)\n",
            "Collecting apscheduler<3.10,>=3.6\n",
            "  Downloading APScheduler-3.9.1.post1-py2.py3-none-any.whl (59 kB)\n",
            "\u001b[K     |████████████████████████████████| 59 kB 6.8 MB/s \n",
            "\u001b[?25hCollecting questionary<1.11.0,>=1.5.1\n",
            "  Downloading questionary-1.10.0-py3-none-any.whl (31 kB)\n",
            "Collecting sanic<21.13,>=21.12\n",
            "  Downloading sanic-21.12.2-py3-none-any.whl (156 kB)\n",
            "\u001b[K     |████████████████████████████████| 156 kB 57.6 MB/s \n",
            "\u001b[?25hCollecting python-socketio<6,>=4.4\n",
            "  Downloading python_socketio-5.7.2-py3-none-any.whl (56 kB)\n",
            "\u001b[K     |████████████████████████████████| 56 kB 4.6 MB/s \n",
            "\u001b[?25hCollecting randomname<0.2.0,>=0.1.5\n",
            "  Downloading randomname-0.1.5.tar.gz (36 kB)\n",
            "Requirement already satisfied: attrs<22.2,>=19.3 in /usr/local/lib/python3.8/dist-packages (from rasa) (22.1.0)\n",
            "Requirement already satisfied: protobuf<3.20,>=3.9.2 in /usr/local/lib/python3.8/dist-packages (from rasa) (3.19.6)\n",
            "Collecting sklearn-crfsuite<0.4,>=0.3\n",
            "  Downloading sklearn_crfsuite-0.3.6-py2.py3-none-any.whl (12 kB)\n",
            "Collecting slack-sdk<4.0.0,>=3.19.2\n",
            "  Downloading slack_sdk-3.19.5-py2.py3-none-any.whl (273 kB)\n",
            "\u001b[K     |████████████████████████████████| 273 kB 41.8 MB/s \n",
            "\u001b[?25hCollecting twilio<7.15,>=6.26\n",
            "  Downloading twilio-7.14.2-py2.py3-none-any.whl (1.4 MB)\n",
            "\u001b[K     |████████████████████████████████| 1.4 MB 60.0 MB/s \n",
            "\u001b[?25hRequirement already satisfied: cloudpickle<2.3,>=1.2 in /usr/local/lib/python3.8/dist-packages (from rasa) (1.5.0)\n",
            "Requirement already satisfied: typing-extensions<5.0.0,>=4.1.1 in /usr/local/lib/python3.8/dist-packages (from rasa) (4.4.0)\n",
            "Collecting sentry-sdk<1.12.0,>=0.17.0\n",
            "  Downloading sentry_sdk-1.11.1-py2.py3-none-any.whl (168 kB)\n",
            "\u001b[K     |████████████████████████████████| 168 kB 48.0 MB/s \n",
            "\u001b[?25hCollecting prompt-toolkit<3.0.29,>=3.0\n",
            "  Downloading prompt_toolkit-3.0.28-py3-none-any.whl (380 kB)\n",
            "\u001b[K     |████████████████████████████████| 380 kB 50.4 MB/s \n",
            "\u001b[?25hCollecting terminaltables<3.2.0,>=3.1.0\n",
            "  Downloading terminaltables-3.1.10-py2.py3-none-any.whl (15 kB)\n",
            "Requirement already satisfied: aiohttp!=3.7.4.post0,<3.9,>=3.6 in /usr/local/lib/python3.8/dist-packages (from rasa) (3.8.3)\n",
            "Requirement already satisfied: pytz<2023.0,>=2019.1 in /usr/local/lib/python3.8/dist-packages (from rasa) (2022.6)\n",
            "Collecting networkx<2.7,>=2.4\n",
            "  Downloading networkx-2.6.3-py3-none-any.whl (1.9 MB)\n",
            "\u001b[K     |████████████████████████████████| 1.9 MB 53.2 MB/s \n",
            "\u001b[?25hCollecting PyJWT[crypto]<3.0.0,>=2.0.0\n",
            "  Downloading PyJWT-2.6.0-py3-none-any.whl (20 kB)\n",
            "Collecting rasa-sdk<3.5.0,>=3.4.0\n",
            "  Downloading rasa_sdk-3.4.0-py3-none-any.whl (43 kB)\n",
            "\u001b[K     |████████████████████████████████| 43 kB 1.6 MB/s \n",
            "\u001b[?25hCollecting tensorflow<2.9.0,>=2.8.4\n",
            "  Downloading tensorflow-2.8.4-cp38-cp38-manylinux2010_x86_64.whl (498.0 MB)\n",
            "\u001b[K     |████████████████████████████████| 498.0 MB 11 kB/s \n",
            "\u001b[?25hRequirement already satisfied: scikit-learn<1.2,>=0.22 in /usr/local/lib/python3.8/dist-packages (from rasa) (1.0.2)\n",
            "Collecting packaging<21.0,>=20.0\n",
            "  Downloading packaging-20.9-py2.py3-none-any.whl (40 kB)\n",
            "\u001b[K     |████████████████████████████████| 40 kB 6.1 MB/s \n",
            "\u001b[?25hCollecting sanic-routing<0.8.0,>=0.7.2\n",
            "  Downloading sanic_routing-0.7.2-py3-none-any.whl (23 kB)\n",
            "Collecting boto3<2.0,>=1.12\n",
            "  Downloading boto3-1.26.41-py3-none-any.whl (132 kB)\n",
            "\u001b[K     |████████████████████████████████| 132 kB 74.7 MB/s \n",
            "\u001b[?25hRequirement already satisfied: tqdm<5.0,>=4.31 in /usr/local/lib/python3.8/dist-packages (from rasa) (4.64.1)\n",
            "Collecting pluggy<2.0.0,>=1.0.0\n",
            "  Downloading pluggy-1.0.0-py2.py3-none-any.whl (13 kB)\n",
            "Collecting psycopg2-binary<2.10.0,>=2.8.2\n",
            "  Downloading psycopg2_binary-2.9.5-cp38-cp38-manylinux_2_17_x86_64.manylinux2014_x86_64.whl (3.0 MB)\n",
            "\u001b[K     |████████████████████████████████| 3.0 MB 68.1 MB/s \n",
            "\u001b[?25hRequirement already satisfied: joblib<1.3.0,>=0.15.1 in /usr/local/lib/python3.8/dist-packages (from rasa) (1.2.0)\n",
            "Collecting webexteamssdk<1.7.0,>=1.1.1\n",
            "  Downloading webexteamssdk-1.6.1-py3-none-any.whl (113 kB)\n",
            "\u001b[K     |████████████████████████████████| 113 kB 63.5 MB/s \n",
            "\u001b[?25hCollecting colorclass<2.3,>=2.2\n",
            "  Downloading colorclass-2.2.2-py2.py3-none-any.whl (18 kB)\n",
            "Requirement already satisfied: numpy<1.24.0,>=1.19.2 in /usr/local/lib/python3.8/dist-packages (from rasa) (1.21.6)\n",
            "Collecting confluent-kafka<2.0.0,>=1.9.2\n",
            "  Downloading confluent_kafka-1.9.2-cp38-cp38-manylinux_2_17_x86_64.manylinux2014_x86_64.whl (3.1 MB)\n",
            "\u001b[K     |████████████████████████████████| 3.1 MB 53.1 MB/s \n",
            "\u001b[?25hRequirement already satisfied: regex<2022.11,>=2020.6 in /usr/local/lib/python3.8/dist-packages (from rasa) (2022.6.2)\n",
            "Collecting tensorflow-addons<0.18.0,>=0.17.0\n",
            "  Downloading tensorflow_addons-0.17.1-cp38-cp38-manylinux_2_17_x86_64.manylinux2014_x86_64.whl (1.1 MB)\n",
            "\u001b[K     |████████████████████████████████| 1.1 MB 49.8 MB/s \n",
            "\u001b[?25hCollecting mattermostwrapper<2.3,>=2.2\n",
            "  Downloading mattermostwrapper-2.2.tar.gz (2.5 kB)\n",
            "Collecting aio-pika<9.0.0,>=6.7.1\n",
            "  Downloading aio_pika-8.3.0-py3-none-any.whl (49 kB)\n",
            "\u001b[K     |████████████████████████████████| 49 kB 5.8 MB/s \n",
            "\u001b[?25hRequirement already satisfied: partd>=0.3.10 in /usr/local/lib/python3.8/dist-packages (from dask==2022.10.2->rasa) (1.3.0)\n",
            "Requirement already satisfied: toolz>=0.8.2 in /usr/local/lib/python3.8/dist-packages (from dask==2022.10.2->rasa) (0.12.0)\n",
            "Requirement already satisfied: click>=7.0 in /usr/local/lib/python3.8/dist-packages (from dask==2022.10.2->rasa) (7.1.2)\n",
            "Requirement already satisfied: pyyaml>=5.3.1 in /usr/local/lib/python3.8/dist-packages (from dask==2022.10.2->rasa) (6.0)\n",
            "Requirement already satisfied: fsspec>=0.6.0 in /usr/local/lib/python3.8/dist-packages (from dask==2022.10.2->rasa) (2022.11.0)\n",
            "Collecting aiormq~=6.6.3\n",
            "  Downloading aiormq-6.6.4-py3-none-any.whl (30 kB)\n",
            "Requirement already satisfied: yarl in /usr/local/lib/python3.8/dist-packages (from aio-pika<9.0.0,>=6.7.1->rasa) (1.8.2)\n",
            "Requirement already satisfied: certifi>=2021.10.8 in /usr/local/lib/python3.8/dist-packages (from aiogram<2.24->rasa) (2022.12.7)\n",
            "Collecting magic-filter>=1.0.9\n",
            "  Downloading magic_filter-1.0.9-py3-none-any.whl (9.3 kB)\n",
            "Collecting Babel<2.10.0,>=2.9.1\n",
            "  Downloading Babel-2.9.1-py2.py3-none-any.whl (8.8 MB)\n",
            "\u001b[K     |████████████████████████████████| 8.8 MB 39.6 MB/s \n",
            "\u001b[?25hRequirement already satisfied: async-timeout<5.0,>=4.0.0a3 in /usr/local/lib/python3.8/dist-packages (from aiohttp!=3.7.4.post0,<3.9,>=3.6->rasa) (4.0.2)\n",
            "Requirement already satisfied: frozenlist>=1.1.1 in /usr/local/lib/python3.8/dist-packages (from aiohttp!=3.7.4.post0,<3.9,>=3.6->rasa) (1.3.3)\n",
            "Requirement already satisfied: aiosignal>=1.1.2 in /usr/local/lib/python3.8/dist-packages (from aiohttp!=3.7.4.post0,<3.9,>=3.6->rasa) (1.3.1)\n",
            "Requirement already satisfied: multidict<7.0,>=4.5 in /usr/local/lib/python3.8/dist-packages (from aiohttp!=3.7.4.post0,<3.9,>=3.6->rasa) (6.0.3)\n",
            "Requirement already satisfied: charset-normalizer<3.0,>=2.0 in /usr/local/lib/python3.8/dist-packages (from aiohttp!=3.7.4.post0,<3.9,>=3.6->rasa) (2.1.1)\n",
            "Collecting pamqp==3.2.1\n",
            "  Downloading pamqp-3.2.1-py2.py3-none-any.whl (33 kB)\n",
            "Requirement already satisfied: six>=1.4.0 in /usr/local/lib/python3.8/dist-packages (from apscheduler<3.10,>=3.6->rasa) (1.15.0)\n",
            "Collecting tzlocal!=3.*,>=2.0\n",
            "  Downloading tzlocal-4.2-py3-none-any.whl (19 kB)\n",
            "Collecting jmespath<2.0.0,>=0.7.1\n",
            "  Downloading jmespath-1.0.1-py3-none-any.whl (20 kB)\n",
            "Collecting botocore<1.30.0,>=1.29.41\n",
            "  Downloading botocore-1.29.41-py3-none-any.whl (10.3 MB)\n",
            "\u001b[K     |████████████████████████████████| 10.3 MB 36.0 MB/s \n",
            "\u001b[?25hCollecting s3transfer<0.7.0,>=0.6.0\n",
            "  Downloading s3transfer-0.6.0-py3-none-any.whl (79 kB)\n",
            "\u001b[K     |████████████████████████████████| 79 kB 7.3 MB/s \n",
            "\u001b[?25hCollecting urllib3<1.27,>=1.25.4\n",
            "  Downloading urllib3-1.26.13-py2.py3-none-any.whl (140 kB)\n",
            "\u001b[K     |████████████████████████████████| 140 kB 77.2 MB/s \n",
            "\u001b[?25hRequirement already satisfied: msgpack>=0.5.2 in /usr/local/lib/python3.8/dist-packages (from CacheControl<0.13.0,>=0.12.9->rasa) (1.0.4)\n",
            "Collecting humanfriendly>=9.1\n",
            "  Downloading humanfriendly-10.0-py2.py3-none-any.whl (86 kB)\n",
            "\u001b[K     |████████████████████████████████| 86 kB 5.2 MB/s \n",
            "\u001b[?25hRequirement already satisfied: cachetools<6.0,>=2.0.0 in /usr/local/lib/python3.8/dist-packages (from google-auth<3->rasa) (5.2.0)\n",
            "Requirement already satisfied: rsa<5,>=3.1.4 in /usr/local/lib/python3.8/dist-packages (from google-auth<3->rasa) (4.9)\n",
            "Requirement already satisfied: pyasn1-modules>=0.2.1 in /usr/local/lib/python3.8/dist-packages (from google-auth<3->rasa) (0.2.8)\n",
            "Requirement already satisfied: importlib-resources>=1.4.0 in /usr/local/lib/python3.8/dist-packages (from jsonschema<4.17,>=3.2->rasa) (5.10.1)\n",
            "Requirement already satisfied: pyrsistent!=0.17.0,!=0.17.1,!=0.17.2,>=0.14.0 in /usr/local/lib/python3.8/dist-packages (from jsonschema<4.17,>=3.2->rasa) (0.19.2)\n",
            "Requirement already satisfied: zipp>=3.1.0 in /usr/local/lib/python3.8/dist-packages (from importlib-resources>=1.4.0->jsonschema<4.17,>=3.2->rasa) (3.11.0)\n",
            "Requirement already satisfied: cycler>=0.10 in /usr/local/lib/python3.8/dist-packages (from matplotlib<3.6,>=3.1->rasa) (0.11.0)\n",
            "Requirement already satisfied: kiwisolver>=1.0.1 in /usr/local/lib/python3.8/dist-packages (from matplotlib<3.6,>=3.1->rasa) (1.4.4)\n",
            "Requirement already satisfied: pyparsing!=2.0.4,!=2.1.2,!=2.1.6,>=2.0.1 in /usr/local/lib/python3.8/dist-packages (from matplotlib<3.6,>=3.1->rasa) (3.0.9)\n",
            "Requirement already satisfied: locket in /usr/local/lib/python3.8/dist-packages (from partd>=0.3.10->dask==2022.10.2->rasa) (1.0.0)\n",
            "Requirement already satisfied: wcwidth in /usr/local/lib/python3.8/dist-packages (from prompt-toolkit<3.0.29,>=3.0->rasa) (0.2.5)\n",
            "Requirement already satisfied: pyasn1<0.5.0,>=0.4.6 in /usr/local/lib/python3.8/dist-packages (from pyasn1-modules>=0.2.1->google-auth<3->rasa) (0.4.8)\n",
            "Collecting cryptography>=3.4.0\n",
            "  Downloading cryptography-38.0.4-cp36-abi3-manylinux_2_24_x86_64.whl (4.0 MB)\n",
            "\u001b[K     |████████████████████████████████| 4.0 MB 58.2 MB/s \n",
            "\u001b[?25hRequirement already satisfied: cffi>=1.12 in /usr/local/lib/python3.8/dist-packages (from cryptography>=3.4.0->PyJWT[crypto]<3.0.0,>=2.0.0->rasa) (1.15.1)\n",
            "Requirement already satisfied: pycparser in /usr/local/lib/python3.8/dist-packages (from cffi>=1.12->cryptography>=3.4.0->PyJWT[crypto]<3.0.0,>=2.0.0->rasa) (2.21)\n",
            "Collecting docopt>=0.6.2\n",
            "  Downloading docopt-0.6.2.tar.gz (25 kB)\n",
            "Collecting dnspython<2.0.0,>=1.16.0\n",
            "  Downloading dnspython-1.16.0-py2.py3-none-any.whl (188 kB)\n",
            "\u001b[K     |████████████████████████████████| 188 kB 59.0 MB/s \n",
            "\u001b[?25hCollecting bidict>=0.21.0\n",
            "  Downloading bidict-0.22.0-py3-none-any.whl (36 kB)\n",
            "Collecting fire\n",
            "  Downloading fire-0.5.0.tar.gz (88 kB)\n",
            "\u001b[K     |████████████████████████████████| 88 kB 5.2 MB/s \n",
            "\u001b[?25hCollecting urllib3<1.27,>=1.25.4\n",
            "  Downloading urllib3-1.25.11-py2.py3-none-any.whl (127 kB)\n",
            "\u001b[K     |████████████████████████████████| 127 kB 60.1 MB/s \n",
            "\u001b[?25hRequirement already satisfied: chardet<4,>=3.0.2 in /usr/local/lib/python3.8/dist-packages (from requests<3.0,>=2.23->rasa) (3.0.4)\n",
            "Requirement already satisfied: idna<3,>=2.5 in /usr/local/lib/python3.8/dist-packages (from requests<3.0,>=2.23->rasa) (2.10)\n",
            "Collecting ruamel.yaml.clib>=0.2.6\n",
            "  Downloading ruamel.yaml.clib-0.2.7-cp38-cp38-manylinux_2_17_x86_64.manylinux2014_x86_64.manylinux_2_24_x86_64.whl (555 kB)\n",
            "\u001b[K     |████████████████████████████████| 555 kB 76.3 MB/s \n",
            "\u001b[?25hCollecting aiofiles>=0.6.0\n",
            "  Downloading aiofiles-22.1.0-py3-none-any.whl (14 kB)\n",
            "Collecting multidict<7.0,>=4.5\n",
            "  Downloading multidict-5.2.0-cp38-cp38-manylinux_2_5_x86_64.manylinux1_x86_64.manylinux_2_12_x86_64.manylinux2010_x86_64.whl (187 kB)\n",
            "\u001b[K     |████████████████████████████████| 187 kB 69.1 MB/s \n",
            "\u001b[?25hCollecting httptools>=0.0.10\n",
            "  Downloading httptools-0.5.0-cp38-cp38-manylinux_2_5_x86_64.manylinux1_x86_64.manylinux_2_17_x86_64.manylinux2014_x86_64.whl (427 kB)\n",
            "\u001b[K     |████████████████████████████████| 427 kB 57.9 MB/s \n",
            "\u001b[?25hCollecting uvloop>=0.5.3\n",
            "  Downloading uvloop-0.17.0-cp38-cp38-manylinux_2_17_x86_64.manylinux2014_x86_64.whl (4.6 MB)\n",
            "\u001b[K     |████████████████████████████████| 4.6 MB 54.3 MB/s \n",
            "\u001b[?25hCollecting websockets>=10.0\n",
            "  Downloading websockets-10.4-cp38-cp38-manylinux_2_5_x86_64.manylinux1_x86_64.manylinux_2_17_x86_64.manylinux2014_x86_64.whl (106 kB)\n",
            "\u001b[K     |████████████████████████████████| 106 kB 68.4 MB/s \n",
            "\u001b[?25hRequirement already satisfied: threadpoolctl>=2.0.0 in /usr/local/lib/python3.8/dist-packages (from scikit-learn<1.2,>=0.22->rasa) (3.1.0)\n",
            "Collecting sentry-sdk<1.12.0,>=0.17.0\n",
            "  Downloading sentry_sdk-1.11.0-py2.py3-none-any.whl (168 kB)\n",
            "\u001b[K     |████████████████████████████████| 168 kB 76.8 MB/s \n",
            "\u001b[?25h  Downloading sentry_sdk-1.10.1-py2.py3-none-any.whl (166 kB)\n",
            "\u001b[K     |████████████████████████████████| 166 kB 75.6 MB/s \n",
            "\u001b[?25h  Downloading sentry_sdk-1.10.0-py2.py3-none-any.whl (166 kB)\n",
            "\u001b[K     |████████████████████████████████| 166 kB 53.9 MB/s \n",
            "\u001b[?25h  Downloading sentry_sdk-1.9.10-py2.py3-none-any.whl (162 kB)\n",
            "\u001b[K     |████████████████████████████████| 162 kB 60.4 MB/s \n",
            "\u001b[?25h  Downloading sentry_sdk-1.9.9-py2.py3-none-any.whl (162 kB)\n",
            "\u001b[K     |████████████████████████████████| 162 kB 48.9 MB/s \n",
            "\u001b[?25h  Downloading sentry_sdk-1.9.8-py2.py3-none-any.whl (158 kB)\n",
            "\u001b[K     |████████████████████████████████| 158 kB 47.7 MB/s \n",
            "\u001b[?25h  Downloading sentry_sdk-1.9.7-py2.py3-none-any.whl (157 kB)\n",
            "\u001b[K     |████████████████████████████████| 157 kB 79.8 MB/s \n",
            "\u001b[?25h  Downloading sentry_sdk-1.9.6-py2.py3-none-any.whl (157 kB)\n",
            "\u001b[K     |████████████████████████████████| 157 kB 65.3 MB/s \n",
            "\u001b[?25h  Downloading sentry_sdk-1.9.5-py2.py3-none-any.whl (157 kB)\n",
            "\u001b[K     |████████████████████████████████| 157 kB 58.9 MB/s \n",
            "\u001b[?25h  Downloading sentry_sdk-1.9.4-py2.py3-none-any.whl (157 kB)\n",
            "\u001b[K     |████████████████████████████████| 157 kB 58.2 MB/s \n",
            "\u001b[?25h  Downloading sentry_sdk-1.9.3-py2.py3-none-any.whl (157 kB)\n",
            "\u001b[K     |████████████████████████████████| 157 kB 64.8 MB/s \n",
            "\u001b[?25h  Downloading sentry_sdk-1.9.2-py2.py3-none-any.whl (157 kB)\n",
            "\u001b[K     |████████████████████████████████| 157 kB 70.7 MB/s \n",
            "\u001b[?25h  Downloading sentry_sdk-1.9.1-py2.py3-none-any.whl (157 kB)\n",
            "\u001b[K     |████████████████████████████████| 157 kB 57.1 MB/s \n",
            "\u001b[?25h  Downloading sentry_sdk-1.9.0-py2.py3-none-any.whl (156 kB)\n",
            "\u001b[K     |████████████████████████████████| 156 kB 59.1 MB/s \n",
            "\u001b[?25hCollecting python-crfsuite>=0.8.3\n",
            "  Downloading python_crfsuite-0.9.8-cp38-cp38-manylinux_2_17_x86_64.manylinux2014_x86_64.whl (1.0 MB)\n",
            "\u001b[K     |████████████████████████████████| 1.0 MB 46.7 MB/s \n",
            "\u001b[?25hRequirement already satisfied: tabulate in /usr/local/lib/python3.8/dist-packages (from sklearn-crfsuite<0.4,>=0.3->rasa) (0.8.10)\n",
            "Requirement already satisfied: greenlet!=0.4.17 in /usr/local/lib/python3.8/dist-packages (from SQLAlchemy<1.5.0,>=1.4.0->rasa) (2.0.1)\n",
            "Requirement already satisfied: grpcio<2.0,>=1.24.3 in /usr/local/lib/python3.8/dist-packages (from tensorflow<2.9.0,>=2.8.4->rasa) (1.51.1)\n",
            "Requirement already satisfied: h5py>=2.9.0 in /usr/local/lib/python3.8/dist-packages (from tensorflow<2.9.0,>=2.8.4->rasa) (3.1.0)\n",
            "Requirement already satisfied: keras-preprocessing>=1.1.1 in /usr/local/lib/python3.8/dist-packages (from tensorflow<2.9.0,>=2.8.4->rasa) (1.1.2)\n",
            "Requirement already satisfied: termcolor>=1.1.0 in /usr/local/lib/python3.8/dist-packages (from tensorflow<2.9.0,>=2.8.4->rasa) (2.1.1)\n",
            "Requirement already satisfied: flatbuffers>=1.12 in /usr/local/lib/python3.8/dist-packages (from tensorflow<2.9.0,>=2.8.4->rasa) (1.12)\n",
            "Requirement already satisfied: wrapt>=1.11.0 in /usr/local/lib/python3.8/dist-packages (from tensorflow<2.9.0,>=2.8.4->rasa) (1.14.1)\n",
            "Requirement already satisfied: astunparse>=1.6.0 in /usr/local/lib/python3.8/dist-packages (from tensorflow<2.9.0,>=2.8.4->rasa) (1.6.3)\n",
            "Requirement already satisfied: libclang>=9.0.1 in /usr/local/lib/python3.8/dist-packages (from tensorflow<2.9.0,>=2.8.4->rasa) (14.0.6)\n",
            "Collecting tensorboard<2.9,>=2.8\n",
            "  Downloading tensorboard-2.8.0-py3-none-any.whl (5.8 MB)\n",
            "\u001b[K     |████████████████████████████████| 5.8 MB 63.1 MB/s \n",
            "\u001b[?25hCollecting keras<2.9,>=2.8.0rc0\n",
            "  Downloading keras-2.8.0-py2.py3-none-any.whl (1.4 MB)\n",
            "\u001b[K     |████████████████████████████████| 1.4 MB 16.4 MB/s \n",
            "\u001b[?25hRequirement already satisfied: gast>=0.2.1 in /usr/local/lib/python3.8/dist-packages (from tensorflow<2.9.0,>=2.8.4->rasa) (0.4.0)\n",
            "Requirement already satisfied: tensorflow-io-gcs-filesystem>=0.23.1 in /usr/local/lib/python3.8/dist-packages (from tensorflow<2.9.0,>=2.8.4->rasa) (0.28.0)\n",
            "Requirement already satisfied: opt-einsum>=2.3.2 in /usr/local/lib/python3.8/dist-packages (from tensorflow<2.9.0,>=2.8.4->rasa) (3.3.0)\n",
            "Requirement already satisfied: google-pasta>=0.1.1 in /usr/local/lib/python3.8/dist-packages (from tensorflow<2.9.0,>=2.8.4->rasa) (0.2.0)\n",
            "Collecting tensorflow-estimator<2.9,>=2.8\n",
            "  Downloading tensorflow_estimator-2.8.0-py2.py3-none-any.whl (462 kB)\n",
            "\u001b[K     |████████████████████████████████| 462 kB 52.0 MB/s \n",
            "\u001b[?25hRequirement already satisfied: wheel<1.0,>=0.23.0 in /usr/local/lib/python3.8/dist-packages (from astunparse>=1.6.0->tensorflow<2.9.0,>=2.8.4->rasa) (0.38.4)\n",
            "Requirement already satisfied: tensorboard-data-server<0.7.0,>=0.6.0 in /usr/local/lib/python3.8/dist-packages (from tensorboard<2.9,>=2.8->tensorflow<2.9.0,>=2.8.4->rasa) (0.6.1)\n",
            "Requirement already satisfied: tensorboard-plugin-wit>=1.6.0 in /usr/local/lib/python3.8/dist-packages (from tensorboard<2.9,>=2.8->tensorflow<2.9.0,>=2.8.4->rasa) (1.8.1)\n",
            "Requirement already satisfied: markdown>=2.6.8 in /usr/local/lib/python3.8/dist-packages (from tensorboard<2.9,>=2.8->tensorflow<2.9.0,>=2.8.4->rasa) (3.4.1)\n",
            "Requirement already satisfied: werkzeug>=0.11.15 in /usr/local/lib/python3.8/dist-packages (from tensorboard<2.9,>=2.8->tensorflow<2.9.0,>=2.8.4->rasa) (1.0.1)\n",
            "Requirement already satisfied: google-auth-oauthlib<0.5,>=0.4.1 in /usr/local/lib/python3.8/dist-packages (from tensorboard<2.9,>=2.8->tensorflow<2.9.0,>=2.8.4->rasa) (0.4.6)\n",
            "Requirement already satisfied: requests-oauthlib>=0.7.0 in /usr/local/lib/python3.8/dist-packages (from google-auth-oauthlib<0.5,>=0.4.1->tensorboard<2.9,>=2.8->tensorflow<2.9.0,>=2.8.4->rasa) (1.3.1)\n",
            "Requirement already satisfied: importlib-metadata>=4.4 in /usr/local/lib/python3.8/dist-packages (from markdown>=2.6.8->tensorboard<2.9,>=2.8->tensorflow<2.9.0,>=2.8.4->rasa) (5.1.0)\n",
            "Requirement already satisfied: oauthlib>=3.0.0 in /usr/local/lib/python3.8/dist-packages (from requests-oauthlib>=0.7.0->google-auth-oauthlib<0.5,>=0.4.1->tensorboard<2.9,>=2.8->tensorflow<2.9.0,>=2.8.4->rasa) (3.2.2)\n",
            "Requirement already satisfied: typeguard>=2.7 in /usr/local/lib/python3.8/dist-packages (from tensorflow-addons<0.18.0,>=0.17.0->rasa) (2.7.1)\n",
            "Collecting pytz-deprecation-shim\n",
            "  Downloading pytz_deprecation_shim-0.1.0.post0-py2.py3-none-any.whl (15 kB)\n",
            "Collecting backports.zoneinfo\n",
            "  Downloading backports.zoneinfo-0.2.1-cp38-cp38-manylinux1_x86_64.whl (74 kB)\n",
            "\u001b[K     |████████████████████████████████| 74 kB 2.7 MB/s \n",
            "\u001b[?25hRequirement already satisfied: future in /usr/local/lib/python3.8/dist-packages (from webexteamssdk<1.7.0,>=1.1.1->rasa) (0.16.0)\n",
            "Collecting requests-toolbelt\n",
            "  Downloading requests_toolbelt-0.10.1-py2.py3-none-any.whl (54 kB)\n",
            "\u001b[K     |████████████████████████████████| 54 kB 3.0 MB/s \n",
            "\u001b[?25hCollecting tzdata\n",
            "  Downloading tzdata-2022.7-py2.py3-none-any.whl (340 kB)\n",
            "\u001b[K     |████████████████████████████████| 340 kB 26.9 MB/s \n",
            "\u001b[?25hBuilding wheels for collected packages: mattermostwrapper, docopt, randomname, fire\n",
            "  Building wheel for mattermostwrapper (setup.py) ... \u001b[?25l\u001b[?25hdone\n",
            "  Created wheel for mattermostwrapper: filename=mattermostwrapper-2.2-py3-none-any.whl size=2464 sha256=1edeb66f0f4b0746c09df127fd84e4fd8c8a5c14c4a6e3fd14aa82757b0792e8\n",
            "  Stored in directory: /root/.cache/pip/wheels/1a/d3/89/63aef88b581e7acc2c48812e6160a2bae57b6ef180f6e1f293\n",
            "  Building wheel for docopt (setup.py) ... \u001b[?25l\u001b[?25hdone\n",
            "  Created wheel for docopt: filename=docopt-0.6.2-py2.py3-none-any.whl size=13723 sha256=f5dc13b0064f85d0d876b628b1b48803147b4304219ebc6c96485b033b1db90c\n",
            "  Stored in directory: /root/.cache/pip/wheels/56/ea/58/ead137b087d9e326852a851351d1debf4ada529b6ac0ec4e8c\n",
            "  Building wheel for randomname (setup.py) ... \u001b[?25l\u001b[?25hdone\n",
            "  Created wheel for randomname: filename=randomname-0.1.5-py3-none-any.whl size=58823 sha256=8ac5205e4ec4119363d35b207a07111eaae4a21077d21e6b93c72e539a35e04a\n",
            "  Stored in directory: /root/.cache/pip/wheels/46/0a/9d/32f2d10d4fae6ddfbdeb504d949ccd70d666382a277e7c1bd5\n",
            "  Building wheel for fire (setup.py) ... \u001b[?25l\u001b[?25hdone\n",
            "  Created wheel for fire: filename=fire-0.5.0-py2.py3-none-any.whl size=116949 sha256=a80010f250b7b5b328d4ac127e0ab5e37018e761f866e01d70dec66efb93238f\n",
            "  Stored in directory: /root/.cache/pip/wheels/5b/eb/43/7295e71293b218ddfd627f935229bf54af9018add7fbb5aac6\n",
            "Successfully built mattermostwrapper docopt randomname fire\n",
            "Installing collected packages: urllib3, websockets, uvloop, ujson, tzdata, sanic-routing, multidict, jmespath, httptools, backports.zoneinfo, aiofiles, tensorflow-estimator, tensorboard, sanic, ruamel.yaml.clib, pytz-deprecation-shim, pamqp, keras, humanfriendly, botocore, tzlocal, tensorflow, sanic-cors, s3transfer, ruamel.yaml, requests-toolbelt, python-engineio, python-crfsuite, pymongo, PyJWT, prompt-toolkit, packaging, magic-filter, fire, docopt, dnspython, cryptography, coloredlogs, bidict, Babel, aiormq, webexteamssdk, typing-utils, twilio, terminaltables, tensorflow-text, tensorflow-addons, tarsafe, slack-sdk, sklearn-crfsuite, sentry-sdk, sanic-jwt, rocketchat-API, redis, rasa-sdk, randomname, questionary, python-socketio, pykwalify, pydot, psycopg2-binary, pluggy, networkx, mattermostwrapper, jsonpickle, fbmessenger, dask, confluent-kafka, colorhash, colorclass, boto3, apscheduler, aiogram, aio-pika, rasa\n",
            "  Attempting uninstall: urllib3\n",
            "    Found existing installation: urllib3 1.24.3\n",
            "    Uninstalling urllib3-1.24.3:\n",
            "      Successfully uninstalled urllib3-1.24.3\n",
            "  Attempting uninstall: multidict\n",
            "    Found existing installation: multidict 6.0.3\n",
            "    Uninstalling multidict-6.0.3:\n",
            "      Successfully uninstalled multidict-6.0.3\n",
            "  Attempting uninstall: tensorflow-estimator\n",
            "    Found existing installation: tensorflow-estimator 2.9.0\n",
            "    Uninstalling tensorflow-estimator-2.9.0:\n",
            "      Successfully uninstalled tensorflow-estimator-2.9.0\n",
            "  Attempting uninstall: tensorboard\n",
            "    Found existing installation: tensorboard 2.9.1\n",
            "    Uninstalling tensorboard-2.9.1:\n",
            "      Successfully uninstalled tensorboard-2.9.1\n",
            "  Attempting uninstall: keras\n",
            "    Found existing installation: keras 2.9.0\n",
            "    Uninstalling keras-2.9.0:\n",
            "      Successfully uninstalled keras-2.9.0\n",
            "  Attempting uninstall: tzlocal\n",
            "    Found existing installation: tzlocal 1.5.1\n",
            "    Uninstalling tzlocal-1.5.1:\n",
            "      Successfully uninstalled tzlocal-1.5.1\n",
            "  Attempting uninstall: tensorflow\n",
            "    Found existing installation: tensorflow 2.9.2\n",
            "    Uninstalling tensorflow-2.9.2:\n",
            "      Successfully uninstalled tensorflow-2.9.2\n",
            "  Attempting uninstall: pymongo\n",
            "    Found existing installation: pymongo 4.3.3\n",
            "    Uninstalling pymongo-4.3.3:\n",
            "      Successfully uninstalled pymongo-4.3.3\n",
            "  Attempting uninstall: prompt-toolkit\n",
            "    Found existing installation: prompt-toolkit 2.0.10\n",
            "    Uninstalling prompt-toolkit-2.0.10:\n",
            "      Successfully uninstalled prompt-toolkit-2.0.10\n",
            "  Attempting uninstall: packaging\n",
            "    Found existing installation: packaging 21.3\n",
            "    Uninstalling packaging-21.3:\n",
            "      Successfully uninstalled packaging-21.3\n",
            "  Attempting uninstall: dnspython\n",
            "    Found existing installation: dnspython 2.2.1\n",
            "    Uninstalling dnspython-2.2.1:\n",
            "      Successfully uninstalled dnspython-2.2.1\n",
            "  Attempting uninstall: Babel\n",
            "    Found existing installation: Babel 2.11.0\n",
            "    Uninstalling Babel-2.11.0:\n",
            "      Successfully uninstalled Babel-2.11.0\n",
            "  Attempting uninstall: pydot\n",
            "    Found existing installation: pydot 1.3.0\n",
            "    Uninstalling pydot-1.3.0:\n",
            "      Successfully uninstalled pydot-1.3.0\n",
            "  Attempting uninstall: pluggy\n",
            "    Found existing installation: pluggy 0.7.1\n",
            "    Uninstalling pluggy-0.7.1:\n",
            "      Successfully uninstalled pluggy-0.7.1\n",
            "  Attempting uninstall: networkx\n",
            "    Found existing installation: networkx 2.8.8\n",
            "    Uninstalling networkx-2.8.8:\n",
            "      Successfully uninstalled networkx-2.8.8\n",
            "  Attempting uninstall: dask\n",
            "    Found existing installation: dask 2022.2.1\n",
            "    Uninstalling dask-2022.2.1:\n",
            "      Successfully uninstalled dask-2022.2.1\n",
            "\u001b[31mERROR: pip's dependency resolver does not currently take into account all the packages that are installed. This behaviour is the source of the following dependency conflicts.\n",
            "ipython 7.9.0 requires jedi>=0.10, which is not installed.\n",
            "xarray 2022.12.0 requires packaging>=21.3, but you have packaging 20.9 which is incompatible.\n",
            "pytest 3.6.4 requires pluggy<0.8,>=0.5, but you have pluggy 1.0.0 which is incompatible.\n",
            "ipython 7.9.0 requires prompt-toolkit<2.1.0,>=2.0.0, but you have prompt-toolkit 3.0.28 which is incompatible.\n",
            "distributed 2022.2.1 requires dask==2022.02.1, but you have dask 2022.10.2 which is incompatible.\u001b[0m\n",
            "Successfully installed Babel-2.9.1 PyJWT-2.6.0 aio-pika-8.3.0 aiofiles-22.1.0 aiogram-2.23.1 aiormq-6.6.4 apscheduler-3.9.1.post1 backports.zoneinfo-0.2.1 bidict-0.22.0 boto3-1.26.41 botocore-1.29.41 colorclass-2.2.2 coloredlogs-15.0.1 colorhash-1.2.1 confluent-kafka-1.9.2 cryptography-38.0.4 dask-2022.10.2 dnspython-1.16.0 docopt-0.6.2 fbmessenger-6.0.0 fire-0.5.0 httptools-0.5.0 humanfriendly-10.0 jmespath-1.0.1 jsonpickle-2.2.0 keras-2.8.0 magic-filter-1.0.9 mattermostwrapper-2.2 multidict-5.2.0 networkx-2.6.3 packaging-20.9 pamqp-3.2.1 pluggy-1.0.0 prompt-toolkit-3.0.28 psycopg2-binary-2.9.5 pydot-1.4.2 pykwalify-1.8.0 pymongo-3.10.1 python-crfsuite-0.9.8 python-engineio-4.3.4 python-socketio-5.7.2 pytz-deprecation-shim-0.1.0.post0 questionary-1.10.0 randomname-0.1.5 rasa-3.4.0 rasa-sdk-3.4.0 redis-4.4.0 requests-toolbelt-0.10.1 rocketchat-API-1.28.1 ruamel.yaml-0.17.21 ruamel.yaml.clib-0.2.7 s3transfer-0.6.0 sanic-21.12.2 sanic-cors-2.0.1 sanic-jwt-1.8.0 sanic-routing-0.7.2 sentry-sdk-1.9.0 sklearn-crfsuite-0.3.6 slack-sdk-3.19.5 tarsafe-0.0.3 tensorboard-2.8.0 tensorflow-2.8.4 tensorflow-addons-0.17.1 tensorflow-estimator-2.8.0 tensorflow-text-2.8.2 terminaltables-3.1.10 twilio-7.14.2 typing-utils-0.1.0 tzdata-2022.7 tzlocal-4.2 ujson-5.6.0 urllib3-1.25.11 uvloop-0.17.0 webexteamssdk-1.6.1 websockets-10.4\n"
          ]
        },
        {
          "output_type": "display_data",
          "data": {
            "application/vnd.colab-display-data+json": {
              "pip_warning": {
                "packages": [
                  "prompt_toolkit"
                ]
              }
            }
          },
          "metadata": {}
        }
      ]
    },
    {
      "cell_type": "code",
      "source": [
        "# from rasa.cli.scaffold import create_initial_project\n",
        "import os\n",
        "\n",
        "project = \"test-project\"\n",
        "# create_initial_project(project)\n",
        "\n",
        "# move into project directory and show files\n",
        "os.chdir(project)\n",
        "print(os.listdir(\".\"))"
      ],
      "metadata": {
        "colab": {
          "base_uri": "https://localhost:8080/"
        },
        "id": "VpRuzXayPzHc",
        "outputId": "4c14c55e-032b-47ad-a2d6-bf88f05082c9"
      },
      "execution_count": 5,
      "outputs": [
        {
          "output_type": "stream",
          "name": "stdout",
          "text": [
            "['config.yml', 'data', 'endpoints.yml', 'tests', 'actions', 'domain.yml', 'credentials.yml']\n"
          ]
        }
      ]
    },
    {
      "cell_type": "code",
      "source": [
        "config = \"config.yml\"\n",
        "training_files = \"data/\"\n",
        "domain = \"domain.yml\"\n",
        "output = \"models/\"\n",
        "print(config, training_files, domain, output)"
      ],
      "metadata": {
        "colab": {
          "base_uri": "https://localhost:8080/"
        },
        "id": "hj-rBg7MP0lW",
        "outputId": "8aa95866-420e-4646-c17a-2000600e7c0b"
      },
      "execution_count": 6,
      "outputs": [
        {
          "output_type": "stream",
          "name": "stdout",
          "text": [
            "config.yml data/ domain.yml models/\n"
          ]
        }
      ]
    },
    {
      "cell_type": "code",
      "source": [
        "import rasa\n",
        "\n",
        "model_path = rasa.train(domain, config, [training_files], output)"
      ],
      "metadata": {
        "colab": {
          "base_uri": "https://localhost:8080/"
        },
        "id": "S6mt25hZP2sH",
        "outputId": "2a23b911-a77f-481c-ce29-7d649d69d019"
      },
      "execution_count": 17,
      "outputs": [
        {
          "output_type": "stream",
          "name": "stdout",
          "text": [
            "\u001b[94mThe configuration for pipeline and policies was chosen automatically. It was written into the config file at 'config.yml'.\u001b[0m\n"
          ]
        },
        {
          "output_type": "stream",
          "name": "stderr",
          "text": [
            "/usr/local/lib/python3.8/dist-packages/rasa/utils/tensorflow/model_data.py:774: VisibleDeprecationWarning: Creating an ndarray from ragged nested sequences (which is a list-or-tuple of lists-or-tuples-or ndarrays with different lengths or shapes) is deprecated. If you meant to do this, you must specify 'dtype=object' when creating the ndarray.\n",
            "  np.concatenate(np.array(f)),\n",
            "Epochs:   0%|          | 0/100 [00:00<?, ?it/s]WARNING:tensorflow:5 out of the last 104 calls to <function Model.make_train_function.<locals>.train_function at 0x7f1432e24e50> triggered tf.function retracing. Tracing is expensive and the excessive number of tracings could be due to (1) creating @tf.function repeatedly in a loop, (2) passing tensors with different shapes, (3) passing Python objects instead of tensors. For (1), please define your @tf.function outside of the loop. For (2), @tf.function has experimental_relax_shapes=True option that relaxes argument shapes that can avoid unnecessary retracing. For (3), please refer to https://www.tensorflow.org/guide/function#controlling_retracing and https://www.tensorflow.org/api_docs/python/tf/function for  more details.\n",
            "Epochs: 100%|██████████| 100/100 [00:22<00:00,  4.37it/s, t_loss=1.03, i_acc=1]\n",
            "Processed story blocks: 100%|██████████| 2/2 [00:00<00:00, 153.46it/s, # trackers=1]\n",
            "Processed story blocks: 100%|██████████| 2/2 [00:00<00:00, 169.47it/s, # trackers=2]\n",
            "Processed story blocks: 100%|██████████| 2/2 [00:00<00:00, 70.33it/s, # trackers=6]\n",
            "Processed story blocks: 100%|██████████| 2/2 [00:00<00:00, 52.30it/s, # trackers=14]\n",
            "Processed rules: 100%|██████████| 1/1 [00:00<00:00, 192.95it/s, # trackers=1]\n",
            "Processed trackers: 100%|██████████| 2/2 [00:00<00:00, 35.50it/s, # action=19]\n",
            "Processed actions: 19it [00:00, 472.46it/s, # examples=19]\n",
            "Processed trackers: 100%|██████████| 1/1 [00:00<00:00, 93.10it/s, # action=3]\n",
            "Processed actions: 3it [00:00, 884.87it/s, # examples=2]\n",
            "Processed trackers: 100%|██████████| 2/2 [00:00<00:00, 57.24it/s, # action=19]\n",
            "Processed trackers: 100%|██████████| 1/1 [00:00<00:00, 481.50it/s]\n",
            "Processed trackers: 100%|██████████| 3/3 [00:00<00:00, 147.35it/s]\n",
            "Processed trackers: 100%|██████████| 30/30 [00:00<00:00, 198.87it/s, # action=23]\n",
            "/usr/local/lib/python3.8/dist-packages/rasa/utils/tensorflow/model_data_utils.py:388: VisibleDeprecationWarning: Creating an ndarray from ragged nested sequences (which is a list-or-tuple of lists-or-tuples-or ndarrays with different lengths or shapes) is deprecated. If you meant to do this, you must specify 'dtype=object' when creating the ndarray.\n",
            "  np.array(values), number_of_dimensions=4\n",
            "/usr/local/lib/python3.8/dist-packages/rasa/utils/tensorflow/model_data_utils.py:404: VisibleDeprecationWarning: Creating an ndarray from ragged nested sequences (which is a list-or-tuple of lists-or-tuples-or ndarrays with different lengths or shapes) is deprecated. If you meant to do this, you must specify 'dtype=object' when creating the ndarray.\n",
            "  MASK: [FeatureArray(np.array(attribute_masks), number_of_dimensions=3)]\n",
            "Epochs:   0%|          | 0/100 [00:00<?, ?it/s]/usr/local/lib/python3.8/dist-packages/tensorflow/python/framework/indexed_slices.py:444: UserWarning: Converting sparse IndexedSlices(IndexedSlices(indices=Tensor(\"gradients/cond_grad/Identity_1:0\", shape=(None,), dtype=int64), values=Tensor(\"gradients/cond_grad/Identity:0\", shape=(None,), dtype=float32), dense_shape=Tensor(\"gradients/cond_grad/Identity_2:0\", shape=(1,), dtype=int32))) to a dense Tensor of unknown shape. This may consume a large amount of memory.\n",
            "  warnings.warn(\n",
            "/usr/local/lib/python3.8/dist-packages/tensorflow/python/framework/indexed_slices.py:444: UserWarning: Converting sparse IndexedSlices(IndexedSlices(indices=Tensor(\"gradients/cond_1_grad/Identity_1:0\", shape=(None,), dtype=int64), values=Tensor(\"gradients/cond_1_grad/Identity:0\", shape=(None,), dtype=float32), dense_shape=Tensor(\"gradients/cond_1_grad/Identity_2:0\", shape=(1,), dtype=int32))) to a dense Tensor of unknown shape. This may consume a large amount of memory.\n",
            "  warnings.warn(\n",
            "Epochs: 100%|██████████| 100/100 [00:25<00:00,  3.87it/s, t_loss=10.2, loss=10, acc=1]\n",
            "WARNING:rasa.shared.utils.common:The UnexpecTED Intent Policy is currently experimental and might change or be removed in the future 🔬 Please share your feedback on it in the forum (https://forum.rasa.com) to help us make this feature ready for production.\n",
            "Processed trackers: 100%|██████████| 30/30 [00:00<00:00, 348.27it/s, # intent=12]\n",
            "Epochs: 100%|██████████| 100/100 [00:21<00:00,  4.59it/s, t_loss=0.176, loss=0.0562, acc=1]\n",
            "WARNING:tensorflow:6 out of the last 32 calls to <bound method RasaModel.predict_step of <rasa.core.policies.unexpected_intent_policy.IntentTED object at 0x7f143864cd90>> triggered tf.function retracing. Tracing is expensive and the excessive number of tracings could be due to (1) creating @tf.function repeatedly in a loop, (2) passing tensors with different shapes, (3) passing Python objects instead of tensors. For (1), please define your @tf.function outside of the loop. For (2), @tf.function has experimental_relax_shapes=True option that relaxes argument shapes that can avoid unnecessary retracing. For (3), please refer to https://www.tensorflow.org/guide/function#controlling_retracing and https://www.tensorflow.org/api_docs/python/tf/function for  more details.\n"
          ]
        },
        {
          "output_type": "stream",
          "name": "stdout",
          "text": [
            "\u001b[92mYour Rasa model is trained and saved at 'models/20221231-134947-radial-occlusion.tar.gz'.\u001b[0m\n"
          ]
        }
      ]
    },
    {
      "cell_type": "code",
      "source": [
        "from rasa.jupyter import chat\n",
        "\n",
        "endpoints = None\n",
        "chat(model_path.model, endpoints)"
      ],
      "metadata": {
        "id": "7ynHo0WLP4Dv",
        "colab": {
          "base_uri": "https://localhost:8080/"
        },
        "outputId": "5ed0d456-61fa-404a-f272-afbb15a726aa"
      },
      "execution_count": 19,
      "outputs": [
        {
          "output_type": "stream",
          "name": "stderr",
          "text": [
            "WARNING:rasa.shared.utils.common:The UnexpecTED Intent Policy is currently experimental and might change or be removed in the future 🔬 Please share your feedback on it in the forum (https://forum.rasa.com) to help us make this feature ready for production.\n"
          ]
        },
        {
          "name": "stdout",
          "output_type": "stream",
          "text": [
            "Your bot is ready to talk! Type your messages here or send '/stop'.\n",
            "halo, stunting itu apa?\n",
            "\u001b[92mStunting adalah masalah gizi kronis akibat kurangnya asupan gizi dalam jangka waktu panjang sehingga mengakibatkan terganggunya pertumbuhan pada anak.\u001b[0m\n",
            "lalu, apa ciri ciri dari stunting?\n",
            "\u001b[92mSalah satu cirinya adalah berat dan tinggi badan kecil.\u001b[0m\n",
            "apakah anak saya stunting\n",
            "\u001b[92mApakah anak anda menderita salah satu dari ciri - ciri dari stunting?\u001b[0m\n",
            "ya\n",
            "\u001b[92mKalau begitu, kemungkinan anak anda mengalami stunting.\u001b[0m\n",
            "cara mencegah?\n",
            "\u001b[92mUntuk mencegah stunting, anda harus mengetahui penyebabnya. Lalu lakukan 4 hal berikut. 1. Pemberian pola asuh yang tepat. 2. Memberikan MPASI yang optimal. 3. Mengobati penyakit yang dialami anak. 4. Perbaikan kebersihan lingkungan dan penerapan hidup bersih keluarga.\u001b[0m\n",
            "baik, terima kasih\n",
            "\u001b[92mSama sama, selamat tinggal.\u001b[0m\n",
            "/stop\n"
          ]
        }
      ]
    }
  ]
}