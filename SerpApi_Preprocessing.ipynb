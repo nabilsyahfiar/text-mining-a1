{
  "nbformat": 4,
  "nbformat_minor": 0,
  "metadata": {
    "colab": {
      "provenance": [],
      "collapsed_sections": []
    },
    "kernelspec": {
      "name": "python3",
      "display_name": "Python 3"
    },
    "language_info": {
      "name": "python"
    }
  },
  "cells": [
    {
      "cell_type": "code",
      "source": [
        "!pip install google-search-results"
      ],
      "metadata": {
        "id": "pgqNLbwu6R4L"
      },
      "execution_count": null,
      "outputs": []
    },
    {
      "cell_type": "code",
      "source": [
        "from serpapi import GoogleSearch\n",
        "from urllib.parse import *"
      ],
      "metadata": {
        "id": "Kna_Wi7B7xiR"
      },
      "execution_count": 1,
      "outputs": []
    },
    {
      "cell_type": "markdown",
      "source": [
        "**Mencari restoran dengan review > 150**"
      ],
      "metadata": {
        "id": "do_V0pjmTGZ9"
      }
    },
    {
      "cell_type": "code",
      "source": [
        "params = {\n",
        "  \"engine\": \"google_maps\",\n",
        "  \"q\": \"restoran\",\n",
        "  \"ll\": \"@-7.2756141,112.6426429,12z\",\n",
        "  \"type\": \"search\",\n",
        "  \"api_key\": \"d622018760727c22f5b1ffc9944319d2c91142b402fb9443371158deba13b312\"\n",
        "}\n",
        "\n",
        "search = GoogleSearch(params)\n",
        "\n",
        "mPosition = 0 # Angka indeks dari data\n",
        "mNums = 5 # Batas jumlah data yang ditampilkan\n",
        "local_results = []\n",
        "\n",
        "while mPosition <= mNums:\n",
        "  results = search.get_dict()\n",
        "\n",
        "  for result in results[\"local_results\"]:\n",
        "    mPosition += 1\n",
        "    \n",
        "    if mPosition <= mNums:\n",
        "      \n",
        "      # Jika jumlah review kurang dari 150, maka jangan masukkan datanya\n",
        "      if result[\"reviews\"] < 150:\n",
        "        mNums += 1\n",
        "        continue\n",
        "        \n",
        "      # Append data sesuai dengan batas jumlah yang sudah ditentukan\n",
        "      local_results.append({'title': result[\"title\"],\n",
        "                           'data_id': result[\"data_id\"],\n",
        "                           'reviews_total': result[\"reviews\"]});\n",
        "\n",
        "  if \"next\" in results.get(\"serpapi_pagination\", {}):\n",
        "    # Akan mengubah parameter dari 'GoogleSearch()' dengan isi parameter dari halaman selanjutnya\n",
        "    search.params_dict.update(dict(parse_qsl(urlsplit(results.get(\"serpapi_pagination\").get(\"next\")).query)))\n",
        "\n",
        "  else:\n",
        "    break"
      ],
      "metadata": {
        "id": "IGSyYzWC7yGI"
      },
      "execution_count": null,
      "outputs": []
    },
    {
      "cell_type": "markdown",
      "source": [
        "**Mencari review berdasarkan restoran**"
      ],
      "metadata": {
        "id": "oqdM029JTDCh"
      }
    },
    {
      "cell_type": "code",
      "source": [
        "data = {'restaurant_name':[],\n",
        "        'name':[],\n",
        "        'rating':[],\n",
        "        'review':[]}\n",
        "\n",
        "for lr in local_results:\n",
        "  \n",
        "  params = {\n",
        "    \"engine\": \"google_maps_reviews\",\n",
        "    \"data_id\": \"\",\n",
        "    \"api_key\": \"d622018760727c22f5b1ffc9944319d2c91142b402fb9443371158deba13b312\"\n",
        "  }\n",
        "  \n",
        "  params[\"data_id\"] = lr['data_id']\n",
        "\n",
        "  search = GoogleSearch(params)\n",
        "\n",
        "  mPosition = 0 # Angka indeks dari data\n",
        "  mNums = 50 # Batas jumlah data yang ditampilkan\n",
        "\n",
        "  while mPosition <= mNums:\n",
        "    results = search.get_dict()\n",
        "\n",
        "    for result in results[\"reviews\"]:\n",
        "      mPosition += 1\n",
        "\n",
        "      if mPosition <= mNums:\n",
        "        # Append data sesuai dengan batas jumlah yang sudah ditentukan\n",
        "        data['restaurant_name'].append(lr['title']);\n",
        "        data['name'].append(result[\"user\"][\"name\"]);\n",
        "        data['rating'].append(result[\"rating\"]);\n",
        "        data['review'].append(result[\"snippet\"]);\n",
        "\n",
        "    if \"next\" in results.get(\"serpapi_pagination\", {}):\n",
        "      # Akan mengubah parameter dari 'GoogleSearch()' dengan isi parameter dari halaman selanjutnya\n",
        "      search.params_dict.update(dict(parse_qsl(urlsplit(results.get(\"serpapi_pagination\").get(\"next\")).query)))\n",
        "\n",
        "    else:\n",
        "      break\n",
        "    \n",
        "review_original = data['review']"
      ],
      "metadata": {
        "id": "llYiZJzz8wp-"
      },
      "execution_count": null,
      "outputs": []
    },
    {
      "cell_type": "markdown",
      "source": [
        "**Ekspor ke CSV sebelum preprocessing**"
      ],
      "metadata": {
        "id": "5DhiSWGZS_UI"
      }
    },
    {
      "cell_type": "code",
      "source": [
        "import pandas as pd\n",
        "df_original = pd.DataFrame(data)\n",
        "df_original.to_csv('review.csv', index=False)"
      ],
      "metadata": {
        "id": "AXsAokFm9bV2"
      },
      "execution_count": 16,
      "outputs": []
    },
    {
      "cell_type": "code",
      "source": [
        "df_original"
      ],
      "metadata": {
        "colab": {
          "base_uri": "https://localhost:8080/",
          "height": 424
        },
        "id": "KtkjLHhh9zuG",
        "outputId": "4b9a17b2-c4bc-4e45-9c2d-f802ee3e058b"
      },
      "execution_count": 15,
      "outputs": [
        {
          "output_type": "execute_result",
          "data": {
            "text/plain": [
              "                       restaurant_name                        name  rating  \\\n",
              "0           Merr Kayu Manis Restaurant       Erik Widiyanto (AKIM)     5.0   \n",
              "1           Merr Kayu Manis Restaurant           Frieddy Kurniawan     5.0   \n",
              "2           Merr Kayu Manis Restaurant                 Alvin Jusuf     4.0   \n",
              "3           Merr Kayu Manis Restaurant                    Yoseph J     5.0   \n",
              "4           Merr Kayu Manis Restaurant                        Bill     3.0   \n",
              "..                                 ...                         ...     ...   \n",
              "245  Restoran Sederhana Masakan Padang                  dudi Purwa     5.0   \n",
              "246  Restoran Sederhana Masakan Padang              Daniel Nugroho     1.0   \n",
              "247  Restoran Sederhana Masakan Padang              chelsea shelly     3.0   \n",
              "248  Restoran Sederhana Masakan Padang  Heru Tridarto Tirtowardojo     4.0   \n",
              "249  Restoran Sederhana Masakan Padang                 Aulia Yusuf     3.0   \n",
              "\n",
              "                                                review  \n",
              "0    This is small foodcourt, they have several pop...  \n",
              "1    This restaurant provide many kind of famous fo...  \n",
              "2    The place not bad, also the foods pretty good ...  \n",
              "3    Price is really cheap, food was great. Ambienc...  \n",
              "4    The food was normal, some are good some are ba...  \n",
              "..                                                 ...  \n",
              "245  (Translated by Google) all the dishes are deli...  \n",
              "246  (Translated by Google) Not good. It's differen...  \n",
              "247  (Translated by Google) The cooking is deliciou...  \n",
              "248  (Translated by Google) Located on Jl. Dharmawa...  \n",
              "249  (Translated by Google) Padang restaurant, base...  \n",
              "\n",
              "[250 rows x 4 columns]"
            ],
            "text/html": [
              "\n",
              "  <div id=\"df-81489508-5004-4256-aeab-3e5b7d5592d6\">\n",
              "    <div class=\"colab-df-container\">\n",
              "      <div>\n",
              "<style scoped>\n",
              "    .dataframe tbody tr th:only-of-type {\n",
              "        vertical-align: middle;\n",
              "    }\n",
              "\n",
              "    .dataframe tbody tr th {\n",
              "        vertical-align: top;\n",
              "    }\n",
              "\n",
              "    .dataframe thead th {\n",
              "        text-align: right;\n",
              "    }\n",
              "</style>\n",
              "<table border=\"1\" class=\"dataframe\">\n",
              "  <thead>\n",
              "    <tr style=\"text-align: right;\">\n",
              "      <th></th>\n",
              "      <th>restaurant_name</th>\n",
              "      <th>name</th>\n",
              "      <th>rating</th>\n",
              "      <th>review</th>\n",
              "    </tr>\n",
              "  </thead>\n",
              "  <tbody>\n",
              "    <tr>\n",
              "      <th>0</th>\n",
              "      <td>Merr Kayu Manis Restaurant</td>\n",
              "      <td>Erik Widiyanto (AKIM)</td>\n",
              "      <td>5.0</td>\n",
              "      <td>This is small foodcourt, they have several pop...</td>\n",
              "    </tr>\n",
              "    <tr>\n",
              "      <th>1</th>\n",
              "      <td>Merr Kayu Manis Restaurant</td>\n",
              "      <td>Frieddy Kurniawan</td>\n",
              "      <td>5.0</td>\n",
              "      <td>This restaurant provide many kind of famous fo...</td>\n",
              "    </tr>\n",
              "    <tr>\n",
              "      <th>2</th>\n",
              "      <td>Merr Kayu Manis Restaurant</td>\n",
              "      <td>Alvin Jusuf</td>\n",
              "      <td>4.0</td>\n",
              "      <td>The place not bad, also the foods pretty good ...</td>\n",
              "    </tr>\n",
              "    <tr>\n",
              "      <th>3</th>\n",
              "      <td>Merr Kayu Manis Restaurant</td>\n",
              "      <td>Yoseph J</td>\n",
              "      <td>5.0</td>\n",
              "      <td>Price is really cheap, food was great. Ambienc...</td>\n",
              "    </tr>\n",
              "    <tr>\n",
              "      <th>4</th>\n",
              "      <td>Merr Kayu Manis Restaurant</td>\n",
              "      <td>Bill</td>\n",
              "      <td>3.0</td>\n",
              "      <td>The food was normal, some are good some are ba...</td>\n",
              "    </tr>\n",
              "    <tr>\n",
              "      <th>...</th>\n",
              "      <td>...</td>\n",
              "      <td>...</td>\n",
              "      <td>...</td>\n",
              "      <td>...</td>\n",
              "    </tr>\n",
              "    <tr>\n",
              "      <th>245</th>\n",
              "      <td>Restoran Sederhana Masakan Padang</td>\n",
              "      <td>dudi Purwa</td>\n",
              "      <td>5.0</td>\n",
              "      <td>(Translated by Google) all the dishes are deli...</td>\n",
              "    </tr>\n",
              "    <tr>\n",
              "      <th>246</th>\n",
              "      <td>Restoran Sederhana Masakan Padang</td>\n",
              "      <td>Daniel Nugroho</td>\n",
              "      <td>1.0</td>\n",
              "      <td>(Translated by Google) Not good. It's differen...</td>\n",
              "    </tr>\n",
              "    <tr>\n",
              "      <th>247</th>\n",
              "      <td>Restoran Sederhana Masakan Padang</td>\n",
              "      <td>chelsea shelly</td>\n",
              "      <td>3.0</td>\n",
              "      <td>(Translated by Google) The cooking is deliciou...</td>\n",
              "    </tr>\n",
              "    <tr>\n",
              "      <th>248</th>\n",
              "      <td>Restoran Sederhana Masakan Padang</td>\n",
              "      <td>Heru Tridarto Tirtowardojo</td>\n",
              "      <td>4.0</td>\n",
              "      <td>(Translated by Google) Located on Jl. Dharmawa...</td>\n",
              "    </tr>\n",
              "    <tr>\n",
              "      <th>249</th>\n",
              "      <td>Restoran Sederhana Masakan Padang</td>\n",
              "      <td>Aulia Yusuf</td>\n",
              "      <td>3.0</td>\n",
              "      <td>(Translated by Google) Padang restaurant, base...</td>\n",
              "    </tr>\n",
              "  </tbody>\n",
              "</table>\n",
              "<p>250 rows × 4 columns</p>\n",
              "</div>\n",
              "      <button class=\"colab-df-convert\" onclick=\"convertToInteractive('df-81489508-5004-4256-aeab-3e5b7d5592d6')\"\n",
              "              title=\"Convert this dataframe to an interactive table.\"\n",
              "              style=\"display:none;\">\n",
              "        \n",
              "  <svg xmlns=\"http://www.w3.org/2000/svg\" height=\"24px\"viewBox=\"0 0 24 24\"\n",
              "       width=\"24px\">\n",
              "    <path d=\"M0 0h24v24H0V0z\" fill=\"none\"/>\n",
              "    <path d=\"M18.56 5.44l.94 2.06.94-2.06 2.06-.94-2.06-.94-.94-2.06-.94 2.06-2.06.94zm-11 1L8.5 8.5l.94-2.06 2.06-.94-2.06-.94L8.5 2.5l-.94 2.06-2.06.94zm10 10l.94 2.06.94-2.06 2.06-.94-2.06-.94-.94-2.06-.94 2.06-2.06.94z\"/><path d=\"M17.41 7.96l-1.37-1.37c-.4-.4-.92-.59-1.43-.59-.52 0-1.04.2-1.43.59L10.3 9.45l-7.72 7.72c-.78.78-.78 2.05 0 2.83L4 21.41c.39.39.9.59 1.41.59.51 0 1.02-.2 1.41-.59l7.78-7.78 2.81-2.81c.8-.78.8-2.07 0-2.86zM5.41 20L4 18.59l7.72-7.72 1.47 1.35L5.41 20z\"/>\n",
              "  </svg>\n",
              "      </button>\n",
              "      \n",
              "  <style>\n",
              "    .colab-df-container {\n",
              "      display:flex;\n",
              "      flex-wrap:wrap;\n",
              "      gap: 12px;\n",
              "    }\n",
              "\n",
              "    .colab-df-convert {\n",
              "      background-color: #E8F0FE;\n",
              "      border: none;\n",
              "      border-radius: 50%;\n",
              "      cursor: pointer;\n",
              "      display: none;\n",
              "      fill: #1967D2;\n",
              "      height: 32px;\n",
              "      padding: 0 0 0 0;\n",
              "      width: 32px;\n",
              "    }\n",
              "\n",
              "    .colab-df-convert:hover {\n",
              "      background-color: #E2EBFA;\n",
              "      box-shadow: 0px 1px 2px rgba(60, 64, 67, 0.3), 0px 1px 3px 1px rgba(60, 64, 67, 0.15);\n",
              "      fill: #174EA6;\n",
              "    }\n",
              "\n",
              "    [theme=dark] .colab-df-convert {\n",
              "      background-color: #3B4455;\n",
              "      fill: #D2E3FC;\n",
              "    }\n",
              "\n",
              "    [theme=dark] .colab-df-convert:hover {\n",
              "      background-color: #434B5C;\n",
              "      box-shadow: 0px 1px 3px 1px rgba(0, 0, 0, 0.15);\n",
              "      filter: drop-shadow(0px 1px 2px rgba(0, 0, 0, 0.3));\n",
              "      fill: #FFFFFF;\n",
              "    }\n",
              "  </style>\n",
              "\n",
              "      <script>\n",
              "        const buttonEl =\n",
              "          document.querySelector('#df-81489508-5004-4256-aeab-3e5b7d5592d6 button.colab-df-convert');\n",
              "        buttonEl.style.display =\n",
              "          google.colab.kernel.accessAllowed ? 'block' : 'none';\n",
              "\n",
              "        async function convertToInteractive(key) {\n",
              "          const element = document.querySelector('#df-81489508-5004-4256-aeab-3e5b7d5592d6');\n",
              "          const dataTable =\n",
              "            await google.colab.kernel.invokeFunction('convertToInteractive',\n",
              "                                                     [key], {});\n",
              "          if (!dataTable) return;\n",
              "\n",
              "          const docLinkHtml = 'Like what you see? Visit the ' +\n",
              "            '<a target=\"_blank\" href=https://colab.research.google.com/notebooks/data_table.ipynb>data table notebook</a>'\n",
              "            + ' to learn more about interactive tables.';\n",
              "          element.innerHTML = '';\n",
              "          dataTable['output_type'] = 'display_data';\n",
              "          await google.colab.output.renderOutput(dataTable, element);\n",
              "          const docLink = document.createElement('div');\n",
              "          docLink.innerHTML = docLinkHtml;\n",
              "          element.appendChild(docLink);\n",
              "        }\n",
              "      </script>\n",
              "    </div>\n",
              "  </div>\n",
              "  "
            ]
          },
          "metadata": {},
          "execution_count": 15
        }
      ]
    },
    {
      "cell_type": "markdown",
      "source": [
        "# **Preprocessing**"
      ],
      "metadata": {
        "id": "qqzmXcED-EC9"
      }
    },
    {
      "cell_type": "markdown",
      "source": [
        "**Case Folding**"
      ],
      "metadata": {
        "id": "9ItrrP2NSfvr"
      }
    },
    {
      "cell_type": "code",
      "source": [
        "import re\n",
        "import string"
      ],
      "metadata": {
        "id": "TPVHE76d98He"
      },
      "execution_count": 17,
      "outputs": []
    },
    {
      "cell_type": "code",
      "source": [
        "review_remove_translated = []\n",
        "\n",
        "for review in review_original:\n",
        "  review_sep = review.split(\"(Translated by Google) \")\n",
        "  \n",
        "  # Jika terdapat (Translated by Google)\n",
        "  if review_sep[0] == \"\":\n",
        "    review_sep = (\"\".join(review_sep)).split(\"(Original)\")\n",
        "    review_sep = review_sep[0]\n",
        "    review = \"\".join(review_sep)\n",
        "    \n",
        "  review_remove_translated.append(review)"
      ],
      "metadata": {
        "id": "f2gEWx7SP3Xd"
      },
      "execution_count": 18,
      "outputs": []
    },
    {
      "cell_type": "code",
      "source": [
        "review_clean = []\n",
        "\n",
        "for review in review_remove_translated:\n",
        "    # Remove Unicode\n",
        "    review_test = re.sub(r'[^\\x00-\\x7F]+', ' ', review)\n",
        "    # Remove Mentions\n",
        "    review_test = re.sub(r'@\\w+', '', review_test)\n",
        "    # Lowercase the document\n",
        "    review_test = review_test.lower()\n",
        "    # Remove punctuations\n",
        "    review_test = re.sub(r'[%s]' % re.escape(string.punctuation), ' ', review_test)\n",
        "    # Remove the numbers\n",
        "    review_test = re.sub(r'[0-9]', '', review_test)\n",
        "    # Remove the doubled space\n",
        "    review_test = re.sub(r'\\s{2,}', ' ', review_test)\n",
        "    \n",
        "    review_clean.append(review_test)"
      ],
      "metadata": {
        "id": "w5r4tb4T-Jzk"
      },
      "execution_count": 19,
      "outputs": []
    },
    {
      "cell_type": "markdown",
      "source": [
        "**Tokenizing**"
      ],
      "metadata": {
        "id": "NLnAc4NvSkA1"
      }
    },
    {
      "cell_type": "code",
      "source": [
        "import nltk\n",
        "nltk.download('punkt')\n",
        "from nltk.tokenize import sent_tokenize, word_tokenize "
      ],
      "metadata": {
        "colab": {
          "base_uri": "https://localhost:8080/"
        },
        "id": "a0GmOlblQHuA",
        "outputId": "a6c65f11-40a7-41ad-c59a-1abe01c44204"
      },
      "execution_count": 23,
      "outputs": [
        {
          "output_type": "stream",
          "name": "stderr",
          "text": [
            "[nltk_data] Downloading package punkt to /root/nltk_data...\n",
            "[nltk_data]   Unzipping tokenizers/punkt.zip.\n"
          ]
        }
      ]
    },
    {
      "cell_type": "code",
      "source": [
        "review_tokenized = []\n",
        "\n",
        "for review in review_clean:\n",
        "  review_tokenized.append(word_tokenize(review))"
      ],
      "metadata": {
        "id": "vDFuf2A9QR61"
      },
      "execution_count": 24,
      "outputs": []
    },
    {
      "cell_type": "markdown",
      "source": [
        "**Filtering (StopWord Removal)**"
      ],
      "metadata": {
        "id": "LmxbtbrLSo5W"
      }
    },
    {
      "cell_type": "code",
      "source": [
        "from nltk.corpus import stopwords\n",
        "nltk.download('stopwords')"
      ],
      "metadata": {
        "colab": {
          "base_uri": "https://localhost:8080/"
        },
        "id": "KxxH2vvxQXpS",
        "outputId": "6e16742d-a1e1-4d93-e8ee-7fd5159b9e36"
      },
      "execution_count": 25,
      "outputs": [
        {
          "output_type": "stream",
          "name": "stderr",
          "text": [
            "[nltk_data] Downloading package stopwords to /root/nltk_data...\n",
            "[nltk_data]   Unzipping corpora/stopwords.zip.\n"
          ]
        },
        {
          "output_type": "execute_result",
          "data": {
            "text/plain": [
              "True"
            ]
          },
          "metadata": {},
          "execution_count": 25
        }
      ]
    },
    {
      "cell_type": "code",
      "source": [
        "review_filtered = []\n",
        "listStopword =  set(stopwords.words('english'))\n",
        "\n",
        "for review in review_tokenized:\n",
        "  \n",
        "  review_each_filtered = []\n",
        "  \n",
        "  for r in review:\n",
        "    if r not in listStopword:\n",
        "        review_each_filtered.append(r)\n",
        "        \n",
        "  review_filtered.append(review_each_filtered)"
      ],
      "metadata": {
        "id": "i7luuqrXQboZ"
      },
      "execution_count": 26,
      "outputs": []
    },
    {
      "cell_type": "markdown",
      "source": [
        "**Stemming (LancasterStemmer Algorithm)**"
      ],
      "metadata": {
        "id": "yH9lb27ZSx1g"
      }
    },
    {
      "cell_type": "code",
      "source": [
        "from nltk.stem import LancasterStemmer\n",
        "stemmer = LancasterStemmer() \n",
        "\n",
        "review_stemmed = []\n",
        "    \n",
        "for review in review_filtered:\n",
        "  \n",
        "  review_each_stemmed = []\n",
        "  \n",
        "  for r in review:\n",
        "    review_each_stemmed.append(stemmer.stem(r))\n",
        "        \n",
        "  review_stemmed.append(review_each_stemmed)"
      ],
      "metadata": {
        "id": "cUFkWntsQhaS"
      },
      "execution_count": 28,
      "outputs": []
    },
    {
      "cell_type": "markdown",
      "source": [
        "**Ekspor ke CSV hasil preprocessing**"
      ],
      "metadata": {
        "id": "quYTaitaS6Mo"
      }
    },
    {
      "cell_type": "code",
      "source": [
        "data_preprocessed = data\n",
        "data_preprocessed['review'] = review_stemmed\n",
        "df = pd.DataFrame(data_preprocessed)\n",
        "df.to_csv('review_processed.csv', index=False)"
      ],
      "metadata": {
        "id": "gmD594ADQtLE"
      },
      "execution_count": 32,
      "outputs": []
    }
  ]
}